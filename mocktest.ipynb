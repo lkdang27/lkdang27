{
 "cells": [
  {
   "cell_type": "code",
   "execution_count": 11,
   "metadata": {},
   "outputs": [],
   "source": [
    "class Product:\n",
    "    def __init__(self, name, price, categories, description, nlp_engine=None):\n",
    "        \"\"\"\n",
    "        Attributes:\n",
    "        - name (str): The name of the product.\n",
    "        - price (float): The price of the product.\n",
    "        - categories (list): A list of categories or tags associated with the product.\n",
    "        - description (str): A description of the product.\n",
    "        - nlp_engine (str, NoneType): An NLP engine for processing the description (defaults to None).\n",
    "        \"\"\"\n",
    "        self.name = name  # instance attribute\n",
    "        self.price = price  # instance attribute\n",
    "        self.categories = categories  # instance attribute\n",
    "        self.description = description  # instance attribute\n",
    "        self.nlp_engine = nlp_engine  # instance attribute\n",
    "\n",
    "    def get_category():\n",
    "        \"\"\"Ask the user to provide a category by prompting with 'Please provide a category: '\n",
    "        :returns: a category\n",
    "        :rtype: string\n",
    "        \"\"\"\n",
    "        return input(\"Please provide a category: \")\n",
    "    \n",
    "    def list_catalog(category, catalog):\n",
    "        \"\"\"List the names of the catalog entries matching the category.\n",
    "        :param category: the category of interest\n",
    "        :type category: string\n",
    "        :param catalog: list[Product]\n",
    "        \"\"\"\n",
    "        matching_entries = [product.name for product in catalog if category in product.categories]\n",
    "        for entry in matching_entries:\n",
    "            print(entry)\n",
    "\n",
    "    def to_string(self):\n",
    "        return self.name + '     ' + str(self.price) + '\\n' + '; '.join(self.categories) + '\\n' + self.description\n"
   ]
  },
  {
   "cell_type": "code",
   "execution_count": 2,
   "metadata": {},
   "outputs": [
    {
     "name": "stdout",
     "output_type": "stream",
     "text": [
      "Doing NLP with Python\n"
     ]
    }
   ],
   "source": [
    "# Creating an instance of the class for a book\n",
    "book_product = Product(\n",
    "    name=\"Doing NLP with Python\",\n",
    "    price=20.0,\n",
    "    categories=[\"Books\", \"NLP\"],\n",
    "    description=\"This book is an easy guide to doing NLP with Python\"\n",
    ")\n",
    "\n",
    "# Assigning the variable 'name' to the instance's 'name' attribute\n",
    "name = book_product.name\n",
    "\n",
    "# Printing the 'name' attribute\n",
    "print(name)  # Output: Doing NLP with Python"
   ]
  },
  {
   "cell_type": "code",
   "execution_count": 5,
   "metadata": {},
   "outputs": [
    {
     "name": "stdout",
     "output_type": "stream",
     "text": [
      "book\n"
     ]
    }
   ],
   "source": [
    "print(Product.get_category())"
   ]
  },
  {
   "cell_type": "code",
   "execution_count": 7,
   "metadata": {},
   "outputs": [
    {
     "name": "stdout",
     "output_type": "stream",
     "text": [
      "Product 1\n",
      "Product 2\n"
     ]
    }
   ],
   "source": [
    "# Create a catalog of products\n",
    "catalog = [\n",
    "    Product(\"Product 1\", 10.0, [\"Category A\", \"Category B\"], \"Description 1\"),\n",
    "    Product(\"Product 2\", 15.0, [\"Category B\", \"Category C\"], \"Description 2\"),\n",
    "    Product(\"Product 3\", 20.0, [\"Category A\", \"Category D\"], \"Description 3\"),\n",
    "]\n",
    "\n",
    "# List products in the \"Category B\"\n",
    "Product.list_catalog(\"Category B\", catalog)"
   ]
  },
  {
   "cell_type": "code",
   "execution_count": 12,
   "metadata": {},
   "outputs": [],
   "source": [
    "my_product = Product('Doing NLP with Python', 20.0, ['book', 'coding book'], 'This book is an easy guide to doing NLP with python.')"
   ]
  },
  {
   "cell_type": "code",
   "execution_count": 13,
   "metadata": {},
   "outputs": [
    {
     "name": "stdout",
     "output_type": "stream",
     "text": [
      "Doing NLP with Python     20.0\n",
      "book; coding book\n",
      "This book is an easy guide to doing NLP with python.\n"
     ]
    }
   ],
   "source": [
    "print(my_product.to_string())"
   ]
  }
 ],
 "metadata": {
  "kernelspec": {
   "display_name": "Python 3",
   "language": "python",
   "name": "python3"
  },
  "language_info": {
   "codemirror_mode": {
    "name": "ipython",
    "version": 3
   },
   "file_extension": ".py",
   "mimetype": "text/x-python",
   "name": "python",
   "nbconvert_exporter": "python",
   "pygments_lexer": "ipython3",
   "version": "3.10.13"
  }
 },
 "nbformat": 4,
 "nbformat_minor": 2
}
