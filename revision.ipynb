{
 "cells": [
  {
   "cell_type": "code",
   "execution_count": null,
   "metadata": {},
   "outputs": [],
   "source": [
    "new_string_variable = 'Colby College'"
   ]
  },
  {
   "cell_type": "code",
   "execution_count": null,
   "metadata": {},
   "outputs": [],
   "source": [
    "new_string_variable.split('Col')"
   ]
  },
  {
   "cell_type": "code",
   "execution_count": null,
   "metadata": {},
   "outputs": [],
   "source": [
    "new_string_variable.join('22')"
   ]
  },
  {
   "cell_type": "code",
   "execution_count": null,
   "metadata": {},
   "outputs": [],
   "source": [
    "str(7)"
   ]
  },
  {
   "cell_type": "code",
   "execution_count": null,
   "metadata": {},
   "outputs": [],
   "source": [
    "int(1.97)"
   ]
  },
  {
   "cell_type": "code",
   "execution_count": null,
   "metadata": {},
   "outputs": [],
   "source": [
    "print('Hi. What is your name?') # Ask the user for their name\n",
    "user_name = input() # Take the user's input and put it into the variable user_name"
   ]
  },
  {
   "cell_type": "code",
   "execution_count": null,
   "metadata": {},
   "outputs": [],
   "source": [
    "my_number = 41"
   ]
  },
  {
   "cell_type": "code",
   "execution_count": null,
   "metadata": {},
   "outputs": [],
   "source": [
    "my_number % 2"
   ]
  },
  {
   "cell_type": "code",
   "execution_count": 8,
   "metadata": {},
   "outputs": [
    {
     "data": {
      "text/plain": [
       "['Gordon Center', 'Bixler']"
      ]
     },
     "execution_count": 8,
     "metadata": {},
     "output_type": "execute_result"
    }
   ],
   "source": [
    "colby_locations = [['Dana', 'Roberts', 'Spa'], ['Gordon Center', 'Bixler'], ['Johnson Pond', 'Coburn', 'Dana', 'Heights', 'Averill']]\n",
    "colby_locations[-2]"
   ]
  },
  {
   "cell_type": "code",
   "execution_count": 9,
   "metadata": {},
   "outputs": [
    {
     "name": "stdout",
     "output_type": "stream",
     "text": [
      "'Bixler' is not in my_list\n",
      "'Bixler' is in my_list\n",
      "'Bixler' is not in my_list\n"
     ]
    }
   ],
   "source": [
    "# Check if 'Bixler' is in colby_locations\n",
    "for i in range(len(colby_locations)):\n",
    "    if 'Bixler' not in colby_locations[i]:\n",
    "        print(\"'Bixler' is not in my_list\")\n",
    "    else:\n",
    "        print(\"'Bixler' is in my_list\")"
   ]
  },
  {
   "cell_type": "code",
   "execution_count": 10,
   "metadata": {},
   "outputs": [
    {
     "name": "stdout",
     "output_type": "stream",
     "text": [
      "['Dana', 'Roberts', 'Spa']\n",
      "['Gordon Center', 'Bixler']\n",
      "['Johnson Pond', 'Coburn', 'Dana', 'Heights', 'Averill']\n"
     ]
    }
   ],
   "source": [
    "for i in range(len(colby_locations)):\n",
    "    print(colby_locations[i])"
   ]
  },
  {
   "cell_type": "code",
   "execution_count": 12,
   "metadata": {},
   "outputs": [
    {
     "name": "stdout",
     "output_type": "stream",
     "text": [
      "Dana\n",
      "Roberts\n",
      "Spa\n",
      "Gordon Center\n",
      "Bixler\n",
      "Johnson Pond\n",
      "Coburn\n",
      "Dana\n",
      "Heights\n",
      "Averill\n"
     ]
    }
   ],
   "source": [
    "for i in range(len(colby_locations)):\n",
    "    for j in range(len(colby_locations[i])):\n",
    "        print(colby_locations[i][j])"
   ]
  },
  {
   "cell_type": "code",
   "execution_count": 19,
   "metadata": {},
   "outputs": [
    {
     "data": {
      "text/plain": [
       "3"
      ]
     },
     "execution_count": 19,
     "metadata": {},
     "output_type": "execute_result"
    }
   ],
   "source": [
    "my_list = [1,2,3,4]\n",
    "my_list.index(4)"
   ]
  },
  {
   "cell_type": "code",
   "execution_count": 17,
   "metadata": {},
   "outputs": [
    {
     "name": "stdout",
     "output_type": "stream",
     "text": [
      "[1, 2, 4, 3]\n"
     ]
    }
   ],
   "source": [
    "my_list2 = [1,2,3,4,3]\n",
    "my_list2.remove(3)\n",
    "print(my_list2)"
   ]
  },
  {
   "cell_type": "code",
   "execution_count": 20,
   "metadata": {},
   "outputs": [
    {
     "name": "stdout",
     "output_type": "stream",
     "text": [
      "[1, 2, 3, 4]\n"
     ]
    }
   ],
   "source": [
    "print(my_list)"
   ]
  },
  {
   "cell_type": "code",
   "execution_count": 21,
   "metadata": {},
   "outputs": [
    {
     "name": "stdout",
     "output_type": "stream",
     "text": [
      "[1, 2, 3, 4, 1, 2, 4, 3]\n"
     ]
    }
   ],
   "source": [
    "my_list.extend(my_list2)\n",
    "print(my_list)"
   ]
  },
  {
   "cell_type": "code",
   "execution_count": 4,
   "metadata": {},
   "outputs": [
    {
     "name": "stdout",
     "output_type": "stream",
     "text": [
      "Congrats! Linh can drive.\n"
     ]
    }
   ],
   "source": [
    "# Question 7\n",
    "\n",
    "# Ask the user for their name and store it in a variable `user_name`\n",
    "user_name = input(\"What's your name?\")\n",
    "# Ask the user for their age and store it in a variable `user_age`\n",
    "user_age = input(\"How old are you?\")\n",
    "# Write an if, else statement that checks to see if the user is driving age.\n",
    "if int(user_age) > 16:\n",
    "    print(f\"Congrats! {user_name} can drive.\")\n",
    "else:\n",
    "    print(f\"Sorry, {user_name} is not old enough.\")"
   ]
  },
  {
   "cell_type": "code",
   "execution_count": 9,
   "metadata": {},
   "outputs": [
    {
     "name": "stdout",
     "output_type": "stream",
     "text": [
      "{'3', '2', '1'}\n"
     ]
    }
   ],
   "source": [
    "first_set = set('123')\n",
    "print(first_set)"
   ]
  },
  {
   "cell_type": "code",
   "execution_count": 11,
   "metadata": {},
   "outputs": [],
   "source": [
    "second_set = set('234')"
   ]
  },
  {
   "cell_type": "code",
   "execution_count": 15,
   "metadata": {},
   "outputs": [
    {
     "name": "stdout",
     "output_type": "stream",
     "text": [
      "{'3', '2', 5, '1'}\n",
      "{'3', '2', '1'}\n",
      "{'4', '3', '2'}\n",
      "{'3', '2'}\n",
      "{'4', '3', '2', '1'}\n",
      "{'1'}\n",
      "False\n",
      "False\n",
      "False\n"
     ]
    }
   ],
   "source": [
    "first_set.add(5)\n",
    "print(first_set)\n",
    "first_set.remove(5)\n",
    "print(first_set)\n",
    "second_set.discard(6)\n",
    "print(second_set)\n",
    "intersection_set = first_set.intersection(second_set)\n",
    "print(intersection_set)\n",
    "union_set = first_set.union(second_set)\n",
    "print(union_set)\n",
    "difference_set = first_set.difference(second_set)\n",
    "print(difference_set)\n",
    "is_subset = first_set.issubset(second_set)\n",
    "print(is_subset)\n",
    "is_superset = first_set.issuperset(second_set)\n",
    "print(is_superset)\n",
    "are_disjoint = first_set.isdisjoint(second_set)\n",
    "print(are_disjoint)"
   ]
  },
  {
   "cell_type": "code",
   "execution_count": 12,
   "metadata": {},
   "outputs": [
    {
     "name": "stdout",
     "output_type": "stream",
     "text": [
      "{'3', '2'}\n",
      "{'3', '2'}\n",
      "{'4', '1'}\n",
      "{'4', '1'}\n",
      "{'4', '3', '1', '2'}\n",
      "{'4', '3', '1', '2'}\n",
      "{'1'}\n",
      "{'4'}\n"
     ]
    }
   ],
   "source": [
    "print(first_set & second_set)\n",
    "print(second_set & first_set)\n",
    "\n",
    "# Try the ^ operator\n",
    "print(first_set ^ second_set)\n",
    "print(second_set ^ first_set)\n",
    "\n",
    "# Try the | operator\n",
    "print(first_set | second_set)\n",
    "print(second_set | first_set)\n",
    "\n",
    "# Try the - operator\n",
    "print(first_set - second_set)\n",
    "print(second_set - first_set)"
   ]
  },
  {
   "cell_type": "code",
   "execution_count": 13,
   "metadata": {},
   "outputs": [
    {
     "name": "stdout",
     "output_type": "stream",
     "text": [
      "set()\n",
      "{1, 2, 3, 4, 5}\n",
      "{'o', 'e', 'h', 'l'}\n"
     ]
    }
   ],
   "source": [
    "empty_set = set()\n",
    "print(empty_set)\n",
    "\n",
    "# Creating a set from a list\n",
    "list_to_set = set([1, 2, 3, 3, 4, 5])  # Duplicate items will be removed\n",
    "print(list_to_set)\n",
    "\n",
    "# Creating a set from a string\n",
    "string_to_set = set(\"hello\")\n",
    "print(string_to_set)"
   ]
  },
  {
   "cell_type": "code",
   "execution_count": 2,
   "metadata": {},
   "outputs": [
    {
     "name": "stdout",
     "output_type": "stream",
     "text": [
      "Amanda Stent\n",
      "Kara Kugelmeyer\n",
      "Thom Klepach\n"
     ]
    }
   ],
   "source": [
    "# Make a dictionary of at least ten contacts who are professors, TAs, class deans, CAs, coaches, friends... you have met so far this semester. I have made the first entry for you!\n",
    "\n",
    "contacts ={\n",
    "    'Amanda Stent': 'professor',\n",
    "    'Kara Kugelmeyer': 'professor',\n",
    "    'Thom Klepach': 'professor',\n",
    "    'Andrea Tilden': 'Academic Advisor',\n",
    "    'Thu Vu': 'Friend',\n",
    "    'Jillian M. Duquaine-Watson': 'Class dean',\n",
    "    'Rachel Tran': 'TA',\n",
    "    'Sanjay Krshna': 'Friend',\n",
    "    'Sasha Alcott': 'Professor',\n",
    "    'Lorelei Koss': 'Professor'\n",
    "}\n",
    "# Question 7 \n",
    "\n",
    "# Write python code to print out the names of all professors in your contacts dictionary\n",
    "for name, role in contacts.items():\n",
    "    if role == 'professor':\n",
    "        print(name)"
   ]
  },
  {
   "cell_type": "code",
   "execution_count": 4,
   "metadata": {},
   "outputs": [
    {
     "name": "stdout",
     "output_type": "stream",
     "text": [
      "['Amanda Stent', 'Kara Kugelmeyer', 'Thom Klepach']\n"
     ]
    }
   ],
   "source": [
    "# Write python code to create a list of the names of professors, TAs, coaches and class deans from your contacts dictionary\n",
    "role_to_include = ['professor', 'TAs', 'coaches', 'class deans']\n",
    "list_of_names = [name for name, role in contacts.items() if role in role_to_include]\n",
    "print(list_of_names)"
   ]
  },
  {
   "cell_type": "code",
   "execution_count": 6,
   "metadata": {},
   "outputs": [
    {
     "name": "stdout",
     "output_type": "stream",
     "text": [
      "rjust():          Hello World\n"
     ]
    }
   ],
   "source": [
    "my_string = 'Hello World'\n",
    "right_justified = my_string.rjust(20, ' ')\n",
    "print(\"rjust():\", right_justified)"
   ]
  },
  {
   "cell_type": "code",
   "execution_count": 7,
   "metadata": {},
   "outputs": [
    {
     "name": "stdout",
     "output_type": "stream",
     "text": [
      "Hello World\n"
     ]
    }
   ],
   "source": [
    "print(my_string.strip())"
   ]
  },
  {
   "cell_type": "code",
   "execution_count": 1,
   "metadata": {},
   "outputs": [],
   "source": [
    "def length(input_text):\n",
    "   \"\"\"Calculates the length of the input input_text.\n",
    "      :param input_text: some text\n",
    "      :type input_text: string\n",
    "      :returns: the length of input_text\n",
    "      :rtype: int\n",
    "   \"\"\"\n",
    "   print(f'length is %i' % len(input_text))\n",
    "   return len(input_text)"
   ]
  },
  {
   "cell_type": "code",
   "execution_count": 2,
   "metadata": {},
   "outputs": [
    {
     "name": "stdout",
     "output_type": "stream",
     "text": [
      "length is 11\n"
     ]
    },
    {
     "data": {
      "text/plain": [
       "11"
      ]
     },
     "execution_count": 2,
     "metadata": {},
     "output_type": "execute_result"
    }
   ],
   "source": [
    "length('Hello World')"
   ]
  },
  {
   "cell_type": "markdown",
   "metadata": {},
   "source": [
    "In the code cell below, define a function positive_reinforcement that takes a user's name (user_name) and mood (mood).\n",
    "\n",
    "If the mood is 'happy' then print 'yay, glad you are happy!'\n",
    "Otherwise print an encouraging message for the user"
   ]
  },
  {
   "cell_type": "code",
   "execution_count": 4,
   "metadata": {},
   "outputs": [],
   "source": [
    "def positive_reinforcement(user_name, mood):\n",
    "    if mood == 'happy':\n",
    "        print(f'yay, glad {user_name} is happy!')\n",
    "    else:\n",
    "        print(f'hope {user_name} has a better day')"
   ]
  },
  {
   "cell_type": "code",
   "execution_count": 5,
   "metadata": {},
   "outputs": [
    {
     "name": "stdout",
     "output_type": "stream",
     "text": [
      "yay, glad Linh is happy!\n"
     ]
    }
   ],
   "source": [
    "positive_reinforcement('Linh', 'happy')"
   ]
  },
  {
   "cell_type": "code",
   "execution_count": 3,
   "metadata": {},
   "outputs": [
    {
     "data": {
      "text/plain": [
       "'Hello World Hello World'"
      ]
     },
     "execution_count": 3,
     "metadata": {},
     "output_type": "execute_result"
    }
   ],
   "source": [
    "my_string = 'Hello World'\n",
    "' '.join([my_string, my_string])"
   ]
  },
  {
   "cell_type": "code",
   "execution_count": 5,
   "metadata": {},
   "outputs": [
    {
     "data": {
      "text/plain": [
       "5"
      ]
     },
     "execution_count": 5,
     "metadata": {},
     "output_type": "execute_result"
    }
   ],
   "source": [
    "import spacy\n",
    "\n",
    "# create a spaCy engine\n",
    "nlp = spacy.load('en_core_web_sm')\n",
    "\n",
    "# make a document from https://www.maine.gov/dacf/mfs/projects/fall_foliage/whenandwhere/index.html\n",
    "doc = nlp('Maine\\'s state parks, mountains, farms and coast provide wonderful settings for fall leaf peeping. Generally northern Maine is at or near peak conditions the last week of September into the first week of October. Central, and western mountains of Maine are at or near peak Indigenous Peoples\\' Day week/weekend. Coastal and southern Maine generally reach peak or near peak conditions mid-to-last October.')\n",
    "\n",
    "# make a list of tokens\n",
    "tokens = [x for x in doc]\n",
    "tokens[0].idx\n",
    "tokens[0].idx+len(tokens[0].text)"
   ]
  },
  {
   "cell_type": "markdown",
   "metadata": {},
   "source": [
    "Question 1: Create a class called Employee. In this class, create the instance variables first_name, last_name, salary and email. Also, create a method that prints out the full name of instances of this class.\n",
    "\n",
    "class Employee:\n",
    "    # initialize method with instance variables\n",
    "    def __init__(self, first_name, last_name, salary, email):\n",
    "        self.first_name = first_name\n",
    "        self.last_name = last_name\n",
    "        self.salary = salary\n",
    "        self.email = email\n",
    "        \n",
    "    # method to print out full name of employees\n",
    "    def print_full_name(self):\n",
    "        print(f\"{self.first_name} {self.last_name}\")\n",
    "\n",
    "# try the Employee class\n",
    "emp1 = Employee('Linh', 'Dang', 50000, 'lkdang@gmail.com')\n",
    "emp1.print_full_name()\n",
    "Linh Dang\n",
    "Question 2: Create two instances of the Employee class.\n",
    "\n",
    "emp1 = Employee('Linh', 'Dang', 70000, 'lkdang@gmail.com')\n",
    "emp2 = Employee('Thu', 'Vu', 60000, 'thuvu@gmail.com')\n",
    "\n",
    "emp1.print_full_name()\n",
    "emp2.print_full_name()\n",
    "Linh Dang\n",
    "Thu Vu\n",
    "Question 3: The company has just announced a pay raise. Everyone will get a pay raise of 8%. Copy down your class definition for Employee. Add a class variable pay_raise to the class Employee.\n",
    "\n",
    "class Employee:\n",
    "    # add class variable for pay raise\n",
    "    pay_raise = 1.08\n",
    "\n",
    "    # initialize method with instance variables\n",
    "    def __init__(self, first_name, last_name, salary, email):\n",
    "        self.first_name = first_name\n",
    "        self.last_name = last_name\n",
    "        self.salary = salary\n",
    "        self.email = email\n",
    "\n",
    "    # method to print out full name of employees\n",
    "    def print_full_name(self):\n",
    "        print(f\"{self.first_name} {self.last_name}\")\n",
    "        \n",
    "    # method to apply the pay raise to the employee's salary\n",
    "    def apply_raise(self):\n",
    "        self.salary = int(self.salary * self.pay_raise)\n",
    "Question 4: Copy your class definition for Employee. Create a new method that will calculate an individual employee's new pay.\n",
    "\n",
    "class Employee:\n",
    "    # add class variable for pay raise\n",
    "    pay_raise = 1.08\n",
    "\n",
    "    # initialize method with instance variables\n",
    "    def __init__(self, first_name, last_name, salary, email):\n",
    "        self.first_name = first_name\n",
    "        self.last_name = last_name\n",
    "        self.salary = salary\n",
    "        self.email = email\n",
    "\n",
    "    # method to print out full name of employees\n",
    "    def print_full_name(self):\n",
    "        print(f\"{self.first_name} {self.last_name}\")\n",
    "        \n",
    "    # method to apply the pay raise to the employee's salary\n",
    "    def apply_raise(self):\n",
    "        self.salary = int(self.salary * self.pay_raise)\n",
    "\n",
    "    # method to calculate individual's new pay\n",
    "    def calculate_new_pay(self):\n",
    "        return int(self.salary * self.pay_raise)\n",
    "Question 5: Call that method on each of the employees you created in Question 2.\n",
    "\n",
    "emp1 = Employee('Linh', 'Dang', 70000, 'lkdang@gmail.com')\n",
    "emp2 = Employee('Thu', 'Vu', 60000, 'thuvu@gmail.com')\n",
    "\n",
    "new_pay_emp1 = emp1.calculate_new_pay()\n",
    "new_pay_emp2 = emp2.calculate_new_pay()\n",
    "\n",
    "print(f\"New pay for {emp1.first_name}: {new_pay_emp1}\")\n",
    "print(f\"New pay for {emp2.first_name}: {new_pay_emp2}\")\n",
    "New pay for Linh: 75600\n",
    "New pay for Thu: 64800\n",
    "Question 6: Use the class Employee you created as the parent class. Create a child class Intern. Interns have a school attribute, and a method for asking for a coffee interview.\n",
    "\n",
    "class Intern(Employee):\n",
    "    def __init__(self, first_name, last_name, salary, email, school):\n",
    "        # initialize attributes from the parent class\n",
    "        super().__init__(first_name, last_name, salary, email)\n",
    "        # new instance variable for the school attribute\n",
    "        self.school = school\n",
    "    \n",
    "    # method to ask for a coffee interview\n",
    "    def ask_for_coffee_interview(self):\n",
    "        print(f\"{self.first_name} from {self.school} asks for a coffee interview.\")\n",
    "Question 7: Make an intern. Print the intern's school. Have the intern ask for a coffee interview.\n",
    "\n",
    "# create an instance of intern\n",
    "intern = Intern('Thuy', 'Khuc', 30000, 'thuykhuc@gmail.com', 'Colby College')\n",
    "\n",
    "# have Thuy ask for a coffee interview\n",
    "intern.ask_for_coffee_interview()\n",
    "Thuy from Colby College asks for a coffee interview.\n",
    "Question 8: Use the class Employee you created as the parent class. Create a child class Manager. Managers have a title, and they have a method for asking other employees to do a task.\n",
    "\n",
    "class Manager(Employee):\n",
    "    def __init__(self, first_name, last_name, salary, email, title):\n",
    "        # initialize attributes from the parent class\n",
    "        super().__init__(first_name, last_name, salary, email)\n",
    "        # add a manager-specific attribute\n",
    "        self.title = title\n",
    "    \n",
    "    # method to ask other employees to do a task\n",
    "    def assign_task(self, employee, task):\n",
    "        print(f\"{self.first_name} {self.last_name}, {self.title}, asks {employee.first_name} {employee.last_name} to {task}.\")\n",
    "Question 9: Make a manager. Print the manager's title. Have the manager ask an employee to do something.\n",
    "\n",
    "# make a manager instance\n",
    "mgr = Manager('Nhi', 'Hoang', 90000, 'nhoang@gmail.com', 'Project Manager')\n",
    "\n",
    "# print the manager's title\n",
    "print(f\"The manager's title is: {mgr.title}\")\n",
    "\n",
    "# have the manager ask an employee to do something\n",
    "mgr.assign_task(emp1, 'complete the report by tomorrow')"
   ]
  },
  {
   "cell_type": "code",
   "execution_count": 1,
   "metadata": {},
   "outputs": [],
   "source": [
    "# Question 1: Create a class called Employee. In this class, create the instance variables first_name, last_name, salary and email. Also, create a method that prints out the full name of instances of this class.\n",
    "\n",
    "class Employee():\n",
    "    def __init__(self, first_name, last_name, salary, email):\n",
    "        self.first_name = first_name\n",
    "        self.last_name = last_name\n",
    "        self.salary = salary\n",
    "        self.email = email\n",
    "\n",
    "    def get_employee_name(self):\n",
    "        return self.first_name + ' ' + self.last_name"
   ]
  },
  {
   "cell_type": "code",
   "execution_count": 2,
   "metadata": {},
   "outputs": [],
   "source": [
    "# Question 2: Create two instances of the Employee class.\n",
    "employee_one = Employee('Linh', 'Dang', 100000, 'lkdang27@colby.edu')\n",
    "employee_two = Employee('Thuy', 'Khuc', 50000, 'thuykhuc@colby.edu')"
   ]
  },
  {
   "cell_type": "code",
   "execution_count": 3,
   "metadata": {},
   "outputs": [
    {
     "data": {
      "text/plain": [
       "'Linh Dang'"
      ]
     },
     "execution_count": 3,
     "metadata": {},
     "output_type": "execute_result"
    }
   ],
   "source": [
    "employee_one.get_employee_name()"
   ]
  },
  {
   "cell_type": "code",
   "execution_count": 4,
   "metadata": {},
   "outputs": [],
   "source": [
    "# The company has just announced a pay raise. Everyone will get a pay raise of 8%. Copy down your class definition for Employee. Add a class variable pay_raise to the class Employee.\n",
    "class Employee():\n",
    "    pay_raise = 1.08\n",
    "    def __init__(self, first_name, last_name, salary, email):\n",
    "        self.first_name = first_name\n",
    "        self.last_name = last_name\n",
    "        self.salary = salary\n",
    "        self.email = email\n",
    "\n",
    "    def get_salary_raise(self):\n",
    "        return int(self.salary * self.pay_raise)"
   ]
  },
  {
   "cell_type": "code",
   "execution_count": 5,
   "metadata": {},
   "outputs": [
    {
     "ename": "AttributeError",
     "evalue": "'Employee' object has no attribute 'get_salary_raise'",
     "output_type": "error",
     "traceback": [
      "\u001b[0;31m---------------------------------------------------------------------------\u001b[0m",
      "\u001b[0;31mAttributeError\u001b[0m                            Traceback (most recent call last)",
      "Cell \u001b[0;32mIn[5], line 1\u001b[0m\n\u001b[0;32m----> 1\u001b[0m \u001b[43memployee_one\u001b[49m\u001b[38;5;241;43m.\u001b[39;49m\u001b[43mget_salary_raise\u001b[49m()\n",
      "\u001b[0;31mAttributeError\u001b[0m: 'Employee' object has no attribute 'get_salary_raise'"
     ]
    }
   ],
   "source": [
    "employee_one.get_salary_raise()"
   ]
  },
  {
   "cell_type": "code",
   "execution_count": null,
   "metadata": {},
   "outputs": [],
   "source": []
  }
 ],
 "metadata": {
  "kernelspec": {
   "display_name": "Python 3",
   "language": "python",
   "name": "python3"
  },
  "language_info": {
   "codemirror_mode": {
    "name": "ipython",
    "version": 3
   },
   "file_extension": ".py",
   "mimetype": "text/x-python",
   "name": "python",
   "nbconvert_exporter": "python",
   "pygments_lexer": "ipython3",
   "version": "3.10.13"
  }
 },
 "nbformat": 4,
 "nbformat_minor": 2
}
